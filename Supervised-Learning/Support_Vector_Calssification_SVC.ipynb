{
 "cells": [
  {
   "cell_type": "code",
   "execution_count": 7,
   "id": "530452b6-5d52-45e2-becb-fe17762d98fe",
   "metadata": {},
   "outputs": [],
   "source": [
    "import numpy as np\n",
    "import pandas as pd\n",
    "from sklearn.metrics import confusion_matrix, accuracy_score, classification_report,ConfusionMatrixDisplay,f1_score\n",
    "from sklearn.model_selection import train_test_split\n",
    "import matplotlib.pyplot as plt\n",
    "from sklearn.svm import SVC\n",
    "from sklearn.preprocessing import LabelEncoder\n",
    "from sklearn.preprocessing import LabelEncoder\n",
    "from sklearn.svm import SVC\n",
    "from sklearn.multiclass import OneVsRestClassifier\n",
    "import pandas as pd\n",
    "\n"
   ]
  },
  {
   "cell_type": "code",
   "execution_count": 9,
   "id": "219e78aa-cadf-4b34-bdfc-84df54866237",
   "metadata": {
    "scrolled": true
   },
   "outputs": [
    {
     "name": "stdout",
     "output_type": "stream",
     "text": [
      "         0  1      2      3       4       5        6        7       8   \\\n",
      "0    842302  M  17.99  10.38  122.80  1001.0  0.11840  0.27760  0.3001   \n",
      "1    842517  M  20.57  17.77  132.90  1326.0  0.08474  0.07864  0.0869   \n",
      "2  84300903  M  19.69  21.25  130.00  1203.0  0.10960  0.15990  0.1974   \n",
      "3  84348301  M  11.42  20.38   77.58   386.1  0.14250  0.28390  0.2414   \n",
      "4  84358402  M  20.29  14.34  135.10  1297.0  0.10030  0.13280  0.1980   \n",
      "\n",
      "        9   ...     22     23      24      25      26      27      28      29  \\\n",
      "0  0.14710  ...  25.38  17.33  184.60  2019.0  0.1622  0.6656  0.7119  0.2654   \n",
      "1  0.07017  ...  24.99  23.41  158.80  1956.0  0.1238  0.1866  0.2416  0.1860   \n",
      "2  0.12790  ...  23.57  25.53  152.50  1709.0  0.1444  0.4245  0.4504  0.2430   \n",
      "3  0.10520  ...  14.91  26.50   98.87   567.7  0.2098  0.8663  0.6869  0.2575   \n",
      "4  0.10430  ...  22.54  16.67  152.20  1575.0  0.1374  0.2050  0.4000  0.1625   \n",
      "\n",
      "       30       31  \n",
      "0  0.4601  0.11890  \n",
      "1  0.2750  0.08902  \n",
      "2  0.3613  0.08758  \n",
      "3  0.6638  0.17300  \n",
      "4  0.2364  0.07678  \n",
      "\n",
      "[5 rows x 32 columns]\n",
      "0       int64\n",
      "1      object\n",
      "2     float64\n",
      "3     float64\n",
      "4     float64\n",
      "5     float64\n",
      "6     float64\n",
      "7     float64\n",
      "8     float64\n",
      "9     float64\n",
      "10    float64\n",
      "11    float64\n",
      "12    float64\n",
      "13    float64\n",
      "14    float64\n",
      "15    float64\n",
      "16    float64\n",
      "17    float64\n",
      "18    float64\n",
      "19    float64\n",
      "20    float64\n",
      "21    float64\n",
      "22    float64\n",
      "23    float64\n",
      "24    float64\n",
      "25    float64\n",
      "26    float64\n",
      "27    float64\n",
      "28    float64\n",
      "29    float64\n",
      "30    float64\n",
      "31    float64\n",
      "dtype: object\n",
      "Data type of the third column: float64\n",
      "Unique values in the third column: [17.99  20.57  19.69  11.42  20.29  12.45  18.25  13.71  13.    12.46\n",
      " 16.02  15.78  19.17  15.85  13.73  14.54  14.68  16.13  19.81  13.54\n",
      " 13.08   9.504 15.34  21.16  16.65  17.14  14.58  18.61  15.3   17.57\n",
      " 18.63  11.84  17.02  19.27  16.74  14.25  13.03  14.99  13.48  13.44\n",
      " 10.95  19.07  13.28  13.17  18.65   8.196 12.05  13.49  11.76  13.64\n",
      " 11.94  18.22  15.1   11.52  19.21  14.71  13.05   8.618 10.17   8.598\n",
      "  9.173 12.68  14.78   9.465 11.31   9.029 12.78  18.94   8.888 17.2\n",
      " 13.8   12.31  16.07  13.53  18.05  20.18  12.86  11.45  13.34  25.22\n",
      " 19.1   12.    18.46  14.48  19.02  12.36  14.64  14.62  15.37  13.27\n",
      " 13.45  15.06  20.26  12.18   9.787 11.6   14.42  13.61   6.981  9.876\n",
      " 10.49  13.11  11.64  22.27  11.34   9.777 12.63  14.26  10.51   8.726\n",
      " 11.93   8.95  14.87  17.95  11.41  18.66  24.25  14.5   13.37  13.85\n",
      " 19.    19.79  12.19  15.46  16.16  15.71  18.45  12.77  11.71  11.43\n",
      " 14.95  11.28   9.738 16.11  12.9   10.75  11.9   11.8   14.44  13.74\n",
      "  8.219  9.731 11.15  13.15  12.25  17.68  16.84  12.06  10.9   11.75\n",
      " 19.19  19.59  12.34  23.27  14.97  10.8   16.78  17.47  12.32  13.43\n",
      " 11.08  10.66   8.671  9.904 16.46  13.01  12.81  27.22  21.09  15.7\n",
      " 15.28  10.08  18.31  11.81  12.3   14.22   9.72  14.86  12.91  13.77\n",
      " 18.08  19.18  14.45  12.23  17.54  23.29  13.81  12.47  15.12  17.01\n",
      " 15.27  20.58  28.11  17.42  14.19  13.86  11.89  10.2   19.8   19.53\n",
      " 13.65  13.56  10.18  15.75  14.34  10.44  15.    12.62  12.83  17.05\n",
      " 11.32  11.22  20.51   9.567 14.03  23.21  20.48  17.46  12.42  11.3\n",
      " 13.75  19.4   10.48  13.2   12.89  10.65  20.94  11.5   19.73  17.3\n",
      " 19.45  13.96  19.55  15.32  15.66  15.53  20.31  17.35  17.29  15.61\n",
      " 17.19  20.73  10.6   13.59  12.87  10.71  14.29  11.29  21.75   9.742\n",
      " 17.93  11.33  18.81  19.16  11.74  16.24  12.58  11.26  11.37  14.41\n",
      " 14.96  12.95  11.85  12.72  10.91  20.09  11.46   9.    13.5   11.7\n",
      " 14.61  12.76  11.54   8.597 12.49   9.042 12.43  10.25  20.16  20.34\n",
      " 12.2   12.67  14.11  12.03  16.27  16.26  16.03  12.98  11.25  17.06\n",
      " 12.99  18.77  10.05  23.51   9.606 11.06  19.68  10.26  14.76  11.47\n",
      " 11.95  11.66  25.73  15.08  11.14  12.56  13.87   8.878  9.436 12.54\n",
      " 13.3   16.5   13.4   20.44  20.2   12.21  21.71  22.01  16.35  15.19\n",
      " 21.37  20.64  13.69  16.17  10.57  13.46  13.66  11.27  11.04  12.39\n",
      " 14.6   13.88   8.734 15.49  21.61  12.1   14.06  13.51  12.8   17.91\n",
      " 12.96  12.94  10.94  16.14  12.85  12.27  11.36   9.397 15.13   9.405\n",
      " 15.5   12.7   11.16  11.57  14.69  11.61  10.03  11.13  14.9   12.4\n",
      " 18.82  13.98  14.04  14.02  10.97  17.27  13.78  18.03  11.99  17.75\n",
      " 14.8   14.53  21.1   11.87  13.38  11.63  13.21   9.755 17.08  27.42\n",
      " 14.4   13.24  13.14   9.668 17.6   11.62   9.667 12.04  14.92  10.88\n",
      " 14.2   13.9   11.49  16.25  12.16  13.47  13.7   15.73  19.44  11.68\n",
      " 16.69  17.85  18.01  13.16  12.65  18.49  20.59  15.04  13.82  23.09\n",
      "  9.268  9.676 12.22  16.3   14.81  15.05  19.89  12.88  12.75   9.295\n",
      " 24.63   9.847  8.571 13.94  12.07  11.67  13.68  20.47  10.96  20.55\n",
      " 14.27  11.69   7.729  7.691 14.47  14.74  13.62  10.32   9.683 10.82\n",
      " 10.86   9.333 10.29  10.16   9.423 14.59  11.51  14.05  11.2   15.22\n",
      " 20.92  21.56  20.13  16.6   20.6    7.76 ]\n"
     ]
    }
   ],
   "source": [
    "import pandas as pd\n",
    "\n",
    "# Load the dataset without headers\n",
    "bc_data = pd.read_csv(r\"C:\\Users\\swami\\Downloads\\Dataset\\breast-cancer.csv\", sep=\",\", header=None)\n",
    "\n",
    "# Display the first 5 rows to inspect the data\n",
    "print(bc_data.head(5))\n",
    "\n",
    "# Display data types of each column\n",
    "print(bc_data.dtypes)\n",
    "\n",
    "# Assigning all feature columns to X (example: from the 3rd column onward)\n",
    "X = bc_data.iloc[1:, 2:].values  # Adjust this based on your data structure\n",
    "\n",
    "# Check the data types of the third column (index 2)\n",
    "print(\"Data type of the third column:\", bc_data.iloc[:, 2].dtype)\n",
    "\n",
    "# Optionally, check unique values in the third column to see if there's any non-numer ic data\n",
    "print(\"Unique values in the third column:\", bc_data.iloc[:, 2].unique())\n"
   ]
  },
  {
   "cell_type": "code",
   "execution_count": 10,
   "id": "cc218b40-dac9-4e3b-af39-65be4078222b",
   "metadata": {},
   "outputs": [
    {
     "data": {
      "image/png": "[encoded data removed]",
      "text/plain": [
       "<Figure size 640x480 with 2 Axes>"
      ]
     },
     "metadata": {},
     "output_type": "display_data"
    },
    {
     "name": "stdout",
     "output_type": "stream",
     "text": [
      "Accuracy: 0.956140350877193\n",
      "F1 Score: 0.9397590361445783\n"
     ]
    }
   ],
   "source": [
    "X = bc_data.values[:, 2:]\n",
    "label_encoder = LabelEncoder()\n",
    "Y=bc_data.values[:, 1]\n",
    "Y = label_encoder.fit_transform(Y)\n",
    "X_train, X_test, Y_train, Y_test = train_test_split(X, Y, test_size=0.2, random_state=42)\n",
    "model = SVC(kernel=\"linear\", gamma=0.5, C=1.0)\n",
    "model.fit(X_train, Y_train)\n",
    "Y_pred = model.predict(X_test)\n",
    "accuracy = accuracy_score(Y_test, Y_pred)\n",
    "confusionmatrix=confusion_matrix(Y_test,Y_pred)\n",
    "disp = ConfusionMatrixDisplay(confusion_matrix=confusionmatrix)\n",
    "disp.plot()\n",
    "plt.show()\n",
    "print(f\"Accuracy: {accuracy}\")\n",
    "print(f\"F1 Score: {f1_score(Y_test,Y_pred)}\")"
   ]
  },
  {
   "cell_type": "code",
   "execution_count": null,
   "id": "d865f300-1864-4853-a98a-5922809dcefe",
   "metadata": {},
   "outputs": [],
   "source": []
  },
  {
   "cell_type": "code",
   "execution_count": null,
   "id": "53d47aa2-ed4e-4c78-bf4b-482db895ce1a",
   "metadata": {},
   "outputs": [],
   "source": []
  },
  {
   "cell_type": "code",
   "execution_count": null,
   "id": "fc295dd4-4181-434c-a85d-a6d9e0b89f56",
   "metadata": {},
   "outputs": [],
   "source": []
  },
  {
   "cell_type": "code",
   "execution_count": null,
   "id": "6335aaf0-3910-4dee-8b10-99625b788cb3",
   "metadata": {},
   "outputs": [],
   "source": []
  },
  {
   "cell_type": "code",
   "execution_count": null,
   "id": "53d1d681-3416-4564-a58a-9adca4415b40",
   "metadata": {},
   "outputs": [],
   "source": []
  }
 ],
 "metadata": {
  "kernelspec": {
   "display_name": "Python 3 (ipykernel)",
   "language": "python",
   "name": "python3"
  },
  "language_info": {
   "codemirror_mode": {
    "name": "ipython",
    "version": 3
   },
   "file_extension": ".py",
   "mimetype": "text/x-python",
   "name": "python",
   "nbconvert_exporter": "python",
   "pygments_lexer": "ipython3",
   "version": "3.12.3"
  }
 },
 "nbformat": 4,
 "nbformat_minor": 5
}

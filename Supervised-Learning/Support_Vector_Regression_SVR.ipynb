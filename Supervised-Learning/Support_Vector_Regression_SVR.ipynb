{
 "cells": [
  {
   "cell_type": "code",
   "execution_count": 1,
   "id": "6a99ef51-6234-4bd6-8169-73f44336a27e",
   "metadata": {},
   "outputs": [],
   "source": [
    "import numpy as np\n",
    "import pandas as pd\n",
    "from sklearn.metrics import confusion_matrix, accuracy_score, classification_report,ConfusionMatrixDisplay,f1_score\n",
    "from sklearn.model_selection import train_test_split\n",
    "import matplotlib.pyplot as plt\n",
    "from sklearn.svm import SVC\n",
    "from sklearn.preprocessing import LabelEncoder\n",
    "from sklearn.svm import SVC,SVR\n",
    "from sklearn.multiclass import OneVsRestClassifier\n",
    "import pandas as pd\n",
    "from sklearn.metrics import mean_absolute_error\n",
    "from sklearn.metrics import mean_squared_error\n",
    "from sklearn.metrics import r2_score"
   ]
  },
  {
   "cell_type": "code",
   "execution_count": 3,
   "id": "3c79caf2-8203-458d-a897-ae3a2478496d",
   "metadata": {},
   "outputs": [
    {
     "name": "stdout",
     "output_type": "stream",
     "text": [
      "[ 90.   101.    91.   117.67  94.    87.    99.   101.    78.    89.\n",
      "  88.    88.    87.   113.    94.    93.    97.   115.   115.   115.\n",
      "  85.    79.    84.   109.    89.   107.   111.   114.    80.    92.\n",
      "  79.33  87.    73.   103.    78.   110.    87.    89.33  96.    78.\n",
      "  91.   111.33 103.    88.   104.67  87.    73.    94.    87.    86.\n",
      "  82.    75.    85.    90.   118.    94.    85.   101.    83.    72.\n",
      "  93.    87.    89.   113.    83.   113.   111.   111.    75.    83.\n",
      "  97.   110.   120.    90.33  83.   103.   109.    95.   106.    90.\n",
      "  92.    85.    65.    86.    93.    83.    80.    76.    88.  ] \n",
      " [101.31350222  88.25217084 100.80804295 102.41168901  92.54036644\n",
      "  93.28653521 101.99918302 103.6534986   87.94617189  91.14825229\n",
      "  91.13106794  98.60467779  86.8723224  104.37423056  91.30643078\n",
      "  86.09476406 104.90901291 103.49175139  90.63924028 103.65894101\n",
      " 103.19832172  90.35761407  91.07498138 101.36190335  91.02331953\n",
      "  90.60676644 101.80530911  87.53731491  86.24652489  92.33700124\n",
      "  93.83159005  90.21952451  89.62792842  94.56903874  98.60036156\n",
      " 101.43536514  87.62625447  90.84429166  97.4218899   87.82955807\n",
      "  88.00995521  90.84525718  91.44390981  96.19247799  91.01470551\n",
      "  88.71645152  95.50627554  87.5635118   87.51818273 100.99314824\n",
      "  89.43388948  92.1480396   88.94745559  88.30448744  97.48260266\n",
      "  88.21258978  90.01077232  92.07429984  94.26142968  86.51510651\n",
      "  94.65521211  86.57499081  94.17181597  90.78325626  98.3258951\n",
      " 102.86696291  97.67227027  90.46757462  88.89395635  96.6853326\n",
      "  88.6073404  100.82184576 104.64124492  86.26369241  88.43360598\n",
      "  91.48465613  99.15763875  99.44240866 101.72586335 100.64967254\n",
      "  87.93084234  93.97793995  88.78546298  90.12943649  93.37923875\n",
      "  88.62141075  84.98250681  85.8505949   94.42030201]\n",
      "Mean Absolute Error: 9.20\n",
      "Mean Squared Error: 125.52\n",
      "Root Mean Squared Error: 11.20\n",
      "R-squared: 0.22\n"
     ]
    }
   ],
   "source": [
    "diabetes=pd.read_csv(r\"C:\\Users\\swami\\Downloads\\Dataset\\Diabetes.csv\", sep=\",\",header=None)\n",
    "X=diabetes.iloc[:,:10].values\n",
    "Y=diabetes.iloc[:,10].values\n",
    "X_train, X_test, Y_train, Y_test = train_test_split(X, Y, test_size=0.2, random_state=42)\n",
    "model=SVR()\n",
    "model.fit(X_train, Y_train)\n",
    "Y_pred = model.predict(X_test)\n",
    "print(Y_test,\"\\n\",Y_pred)\n",
    "mae = mean_absolute_error(Y_test, Y_pred)\n",
    "print(f\"Mean Absolute Error: {mae:.2f}\")\n",
    "mse = mean_squared_error(Y_test, Y_pred)\n",
    "print(f\"Mean Squared Error: {mse:.2f}\")\n",
    "rmse = np.sqrt(mse)\n",
    "print(f\"Root Mean Squared Error: {rmse:.2f}\")\n",
    "r2 = r2_score(Y_test, Y_pred)\n",
    "print(f\"R-squared: {r2:.2f}\")"
   ]
  },
  {
   "cell_type": "code",
   "execution_count": null,
   "id": "b1863b43-bb8f-400f-b828-848a756fc28c",
   "metadata": {},
   "outputs": [],
   "source": []
  }
 ],
 "metadata": {
  "kernelspec": {
   "display_name": "Python 3 (ipykernel)",
   "language": "python",
   "name": "python3"
  },
  "language_info": {
   "codemirror_mode": {
    "name": "ipython",
    "version": 3
   },
   "file_extension": ".py",
   "mimetype": "text/x-python",
   "name": "python",
   "nbconvert_exporter": "python",
   "pygments_lexer": "ipython3",
   "version": "3.12.3"
  }
 },
 "nbformat": 4,
 "nbformat_minor": 5
}

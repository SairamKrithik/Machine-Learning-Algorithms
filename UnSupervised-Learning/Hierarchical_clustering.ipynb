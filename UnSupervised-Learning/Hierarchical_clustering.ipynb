{
 "cells": [
  {
   "cell_type": "code",
   "execution_count": 7,
   "id": "94cb4471-7d11-4003-981f-88631177c0db",
   "metadata": {},
   "outputs": [
    {
     "name": "stdout",
     "output_type": "stream",
     "text": [
      "[1 1 1 0 0 0]\n"
     ]
    }
   ],
   "source": [
    "from sklearn.cluster import AgglomerativeClustering \n",
    "import numpy as np \n",
    "\n",
    "# randomly chosen dataset \n",
    "X = np.array([[1, 2], [1, 4], [1, 0], \n",
    "\t\t\t[4, 2], [4, 4], [4, 0]]) \n",
    "\n",
    "# here we need to mention the number of clusters \n",
    "# otherwise the result will be a single cluster \n",
    "# containing all the data \n",
    "clustering = AgglomerativeClustering(n_clusters=2).fit(X) \n",
    "\n",
    "# print the class labels \n",
    "print(clustering.labels_) \n"
   ]
  }
 ],
 "metadata": {
  "kernelspec": {
   "display_name": "Python 3 (ipykernel)",
   "language": "python",
   "name": "python3"
  },
  "language_info": {
   "codemirror_mode": {
    "name": "ipython",
    "version": 3
   },
   "file_extension": ".py",
   "mimetype": "text/x-python",
   "name": "python",
   "nbconvert_exporter": "python",
   "pygments_lexer": "ipython3",
   "version": "3.12.3"
  }
 },
 "nbformat": 4,
 "nbformat_minor": 5
}
